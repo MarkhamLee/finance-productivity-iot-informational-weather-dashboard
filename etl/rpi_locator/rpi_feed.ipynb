{
 "cells": [
  {
   "cell_type": "code",
   "execution_count": 1,
   "metadata": {},
   "outputs": [],
   "source": [
    "import pandas as pd\n",
    "import numpy as np \n",
    "import feedparser\n",
    "import time\n",
    "from datetime import datetime, timezone, timedelta"
   ]
  },
  {
   "cell_type": "code",
   "execution_count": 2,
   "metadata": {},
   "outputs": [],
   "source": [
    "# set parameters for how many viewable columns there are \n",
    "\n",
    "pd.options.display.max_rows = 999\n",
    "pd.options.display.max_columns = 999\n",
    "pd.set_option(\"max_colwidth\", None)"
   ]
  },
  {
   "cell_type": "code",
   "execution_count": 3,
   "metadata": {},
   "outputs": [],
   "source": [
    "# Using a URL with the country and product included, may change this in the future to be more\n",
    "# generic and then filter it out later \n",
    "\n",
    "url_rpi5 = 'https://rpilocator.com/feed/?country=US&cat=PI5'"
   ]
  },
  {
   "cell_type": "code",
   "execution_count": 4,
   "metadata": {},
   "outputs": [],
   "source": [
    "# method to read the feed and convert to data frame\n",
    "\n",
    "def read_rss_convert(url: str) -> object:\n",
    "\n",
    "    # read feed \n",
    "    rpi_feed = feedparser.parse(url)\n",
    "    \n",
    "    # parse out the entries & convert to data frame \n",
    "    rpi_feed =pd.DataFrame(rpi_feed.entries)\n",
    "    \n",
    "    # validate that there are entries -helpful for when usigng pre-filtered URLs     \n",
    "    if len(rpi_feed) > 0:\n",
    "        filtered = rpi_feed[['title', 'published']]\n",
    "        return filtered\n",
    "    else:\n",
    "        return None \n"
   ]
  },
  {
   "cell_type": "code",
   "execution_count": 5,
   "metadata": {},
   "outputs": [
    {
     "data": {
      "text/html": [
       "<div>\n",
       "<style scoped>\n",
       "    .dataframe tbody tr th:only-of-type {\n",
       "        vertical-align: middle;\n",
       "    }\n",
       "\n",
       "    .dataframe tbody tr th {\n",
       "        vertical-align: top;\n",
       "    }\n",
       "\n",
       "    .dataframe thead th {\n",
       "        text-align: right;\n",
       "    }\n",
       "</style>\n",
       "<table border=\"1\" class=\"dataframe\">\n",
       "  <thead>\n",
       "    <tr style=\"text-align: right;\">\n",
       "      <th></th>\n",
       "      <th>title</th>\n",
       "      <th>published</th>\n",
       "    </tr>\n",
       "  </thead>\n",
       "  <tbody>\n",
       "    <tr>\n",
       "      <th>0</th>\n",
       "      <td>Stock Alert (US): RPi 5 - 4GB RAM is In Stock at Adafruit 100 units in stock.</td>\n",
       "      <td>Thu, 11 Jan 2024 16:30:24 GMT</td>\n",
       "    </tr>\n",
       "    <tr>\n",
       "      <th>1</th>\n",
       "      <td>Stock Alert (US): RPi 5 - 8GB RAM is In Stock at Pishop 7 units in stock.</td>\n",
       "      <td>Thu, 11 Jan 2024 04:24:03 GMT</td>\n",
       "    </tr>\n",
       "    <tr>\n",
       "      <th>2</th>\n",
       "      <td>Stock Alert (US): RPi 5 - 8GB RAM is In Stock at Pishop 27 units in stock.</td>\n",
       "      <td>Wed, 10 Jan 2024 23:56:10 GMT</td>\n",
       "    </tr>\n",
       "    <tr>\n",
       "      <th>3</th>\n",
       "      <td>Stock Alert (US): RPi 5 - 8GB RAM is In Stock at Pishop 99 units in stock.</td>\n",
       "      <td>Wed, 10 Jan 2024 21:00:08 GMT</td>\n",
       "    </tr>\n",
       "    <tr>\n",
       "      <th>4</th>\n",
       "      <td>Stock Alert (US): RPi 5 - 4GB RAM is In Stock at Adafruit 100 units in stock.</td>\n",
       "      <td>Wed, 10 Jan 2024 17:16:38 GMT</td>\n",
       "    </tr>\n",
       "  </tbody>\n",
       "</table>\n",
       "</div>"
      ],
      "text/plain": [
       "                                                                           title  \\\n",
       "0  Stock Alert (US): RPi 5 - 4GB RAM is In Stock at Adafruit 100 units in stock.   \n",
       "1      Stock Alert (US): RPi 5 - 8GB RAM is In Stock at Pishop 7 units in stock.   \n",
       "2     Stock Alert (US): RPi 5 - 8GB RAM is In Stock at Pishop 27 units in stock.   \n",
       "3     Stock Alert (US): RPi 5 - 8GB RAM is In Stock at Pishop 99 units in stock.   \n",
       "4  Stock Alert (US): RPi 5 - 4GB RAM is In Stock at Adafruit 100 units in stock.   \n",
       "\n",
       "                       published  \n",
       "0  Thu, 11 Jan 2024 16:30:24 GMT  \n",
       "1  Thu, 11 Jan 2024 04:24:03 GMT  \n",
       "2  Wed, 10 Jan 2024 23:56:10 GMT  \n",
       "3  Wed, 10 Jan 2024 21:00:08 GMT  \n",
       "4  Wed, 10 Jan 2024 17:16:38 GMT  "
      ]
     },
     "execution_count": 5,
     "metadata": {},
     "output_type": "execute_result"
    }
   ],
   "source": [
    "feed_df = read_rss_convert(url_rpi5)\n",
    "feed_df.head()\n"
   ]
  },
  {
   "cell_type": "code",
   "execution_count": 6,
   "metadata": {},
   "outputs": [],
   "source": [
    "# update column names \n",
    "\n",
    "feed_df.rename(columns = {'title': 'product_alert'}, inplace = True)\n",
    "\n",
    "\n"
   ]
  },
  {
   "cell_type": "code",
   "execution_count": 7,
   "metadata": {},
   "outputs": [],
   "source": [
    "# need to convert published to date time format \n",
    "\n",
    "feed_df['published']= pd.to_datetime(feed_df['published'])\n"
   ]
  },
  {
   "cell_type": "code",
   "execution_count": 8,
   "metadata": {},
   "outputs": [
    {
     "data": {
      "text/html": [
       "<div>\n",
       "<style scoped>\n",
       "    .dataframe tbody tr th:only-of-type {\n",
       "        vertical-align: middle;\n",
       "    }\n",
       "\n",
       "    .dataframe tbody tr th {\n",
       "        vertical-align: top;\n",
       "    }\n",
       "\n",
       "    .dataframe thead th {\n",
       "        text-align: right;\n",
       "    }\n",
       "</style>\n",
       "<table border=\"1\" class=\"dataframe\">\n",
       "  <thead>\n",
       "    <tr style=\"text-align: right;\">\n",
       "      <th></th>\n",
       "      <th>product_alert</th>\n",
       "      <th>published</th>\n",
       "    </tr>\n",
       "  </thead>\n",
       "  <tbody>\n",
       "    <tr>\n",
       "      <th>0</th>\n",
       "      <td>Stock Alert (US): RPi 5 - 4GB RAM is In Stock at Adafruit 100 units in stock.</td>\n",
       "      <td>2024-01-11 16:30:24</td>\n",
       "    </tr>\n",
       "    <tr>\n",
       "      <th>1</th>\n",
       "      <td>Stock Alert (US): RPi 5 - 8GB RAM is In Stock at Pishop 7 units in stock.</td>\n",
       "      <td>2024-01-11 04:24:03</td>\n",
       "    </tr>\n",
       "    <tr>\n",
       "      <th>2</th>\n",
       "      <td>Stock Alert (US): RPi 5 - 8GB RAM is In Stock at Pishop 27 units in stock.</td>\n",
       "      <td>2024-01-10 23:56:10</td>\n",
       "    </tr>\n",
       "    <tr>\n",
       "      <th>3</th>\n",
       "      <td>Stock Alert (US): RPi 5 - 8GB RAM is In Stock at Pishop 99 units in stock.</td>\n",
       "      <td>2024-01-10 21:00:08</td>\n",
       "    </tr>\n",
       "    <tr>\n",
       "      <th>4</th>\n",
       "      <td>Stock Alert (US): RPi 5 - 4GB RAM is In Stock at Adafruit 100 units in stock.</td>\n",
       "      <td>2024-01-10 17:16:38</td>\n",
       "    </tr>\n",
       "  </tbody>\n",
       "</table>\n",
       "</div>"
      ],
      "text/plain": [
       "                                                                   product_alert  \\\n",
       "0  Stock Alert (US): RPi 5 - 4GB RAM is In Stock at Adafruit 100 units in stock.   \n",
       "1      Stock Alert (US): RPi 5 - 8GB RAM is In Stock at Pishop 7 units in stock.   \n",
       "2     Stock Alert (US): RPi 5 - 8GB RAM is In Stock at Pishop 27 units in stock.   \n",
       "3     Stock Alert (US): RPi 5 - 8GB RAM is In Stock at Pishop 99 units in stock.   \n",
       "4  Stock Alert (US): RPi 5 - 4GB RAM is In Stock at Adafruit 100 units in stock.   \n",
       "\n",
       "            published  \n",
       "0 2024-01-11 16:30:24  \n",
       "1 2024-01-11 04:24:03  \n",
       "2 2024-01-10 23:56:10  \n",
       "3 2024-01-10 21:00:08  \n",
       "4 2024-01-10 17:16:38  "
      ]
     },
     "execution_count": 8,
     "metadata": {},
     "output_type": "execute_result"
    }
   ],
   "source": [
    "# check format \n",
    "feed_df.head()"
   ]
  },
  {
   "cell_type": "code",
   "execution_count": 9,
   "metadata": {},
   "outputs": [],
   "source": [
    "# set the timezone used for the dataframe to be GMT like the original data\n",
    "tzinfo = timezone(timedelta(hours=-8))"
   ]
  },
  {
   "cell_type": "code",
   "execution_count": 10,
   "metadata": {},
   "outputs": [],
   "source": [
    "# get current time in GMT \n",
    "\n",
    "x = datetime.now(timezone.utc)"
   ]
  },
  {
   "cell_type": "code",
   "execution_count": 11,
   "metadata": {},
   "outputs": [],
   "source": [
    "# set format \n",
    "current_date_time = x.strftime(\"%Y-%m-%d %H:%M:%S\")"
   ]
  },
  {
   "cell_type": "code",
   "execution_count": 12,
   "metadata": {},
   "outputs": [
    {
     "data": {
      "text/plain": [
       "'2024-01-11 22:49:27'"
      ]
     },
     "execution_count": 12,
     "metadata": {},
     "output_type": "execute_result"
    }
   ],
   "source": [
    "# check the value \n",
    "\n",
    "current_date_time"
   ]
  },
  {
   "cell_type": "code",
   "execution_count": 13,
   "metadata": {},
   "outputs": [],
   "source": [
    "# add current date time to data frame \n",
    "feed_df['current time'] = current_date_time\n",
    "\n",
    "\n"
   ]
  },
  {
   "cell_type": "code",
   "execution_count": 14,
   "metadata": {},
   "outputs": [
    {
     "data": {
      "text/html": [
       "<div>\n",
       "<style scoped>\n",
       "    .dataframe tbody tr th:only-of-type {\n",
       "        vertical-align: middle;\n",
       "    }\n",
       "\n",
       "    .dataframe tbody tr th {\n",
       "        vertical-align: top;\n",
       "    }\n",
       "\n",
       "    .dataframe thead th {\n",
       "        text-align: right;\n",
       "    }\n",
       "</style>\n",
       "<table border=\"1\" class=\"dataframe\">\n",
       "  <thead>\n",
       "    <tr style=\"text-align: right;\">\n",
       "      <th></th>\n",
       "      <th>product_alert</th>\n",
       "      <th>published</th>\n",
       "      <th>current time</th>\n",
       "    </tr>\n",
       "  </thead>\n",
       "  <tbody>\n",
       "    <tr>\n",
       "      <th>0</th>\n",
       "      <td>Stock Alert (US): RPi 5 - 4GB RAM is In Stock at Adafruit 100 units in stock.</td>\n",
       "      <td>2024-01-11 16:30:24</td>\n",
       "      <td>2024-01-11 22:49:27</td>\n",
       "    </tr>\n",
       "    <tr>\n",
       "      <th>1</th>\n",
       "      <td>Stock Alert (US): RPi 5 - 8GB RAM is In Stock at Pishop 7 units in stock.</td>\n",
       "      <td>2024-01-11 04:24:03</td>\n",
       "      <td>2024-01-11 22:49:27</td>\n",
       "    </tr>\n",
       "    <tr>\n",
       "      <th>2</th>\n",
       "      <td>Stock Alert (US): RPi 5 - 8GB RAM is In Stock at Pishop 27 units in stock.</td>\n",
       "      <td>2024-01-10 23:56:10</td>\n",
       "      <td>2024-01-11 22:49:27</td>\n",
       "    </tr>\n",
       "    <tr>\n",
       "      <th>3</th>\n",
       "      <td>Stock Alert (US): RPi 5 - 8GB RAM is In Stock at Pishop 99 units in stock.</td>\n",
       "      <td>2024-01-10 21:00:08</td>\n",
       "      <td>2024-01-11 22:49:27</td>\n",
       "    </tr>\n",
       "    <tr>\n",
       "      <th>4</th>\n",
       "      <td>Stock Alert (US): RPi 5 - 4GB RAM is In Stock at Adafruit 100 units in stock.</td>\n",
       "      <td>2024-01-10 17:16:38</td>\n",
       "      <td>2024-01-11 22:49:27</td>\n",
       "    </tr>\n",
       "  </tbody>\n",
       "</table>\n",
       "</div>"
      ],
      "text/plain": [
       "                                                                   product_alert  \\\n",
       "0  Stock Alert (US): RPi 5 - 4GB RAM is In Stock at Adafruit 100 units in stock.   \n",
       "1      Stock Alert (US): RPi 5 - 8GB RAM is In Stock at Pishop 7 units in stock.   \n",
       "2     Stock Alert (US): RPi 5 - 8GB RAM is In Stock at Pishop 27 units in stock.   \n",
       "3     Stock Alert (US): RPi 5 - 8GB RAM is In Stock at Pishop 99 units in stock.   \n",
       "4  Stock Alert (US): RPi 5 - 4GB RAM is In Stock at Adafruit 100 units in stock.   \n",
       "\n",
       "            published         current time  \n",
       "0 2024-01-11 16:30:24  2024-01-11 22:49:27  \n",
       "1 2024-01-11 04:24:03  2024-01-11 22:49:27  \n",
       "2 2024-01-10 23:56:10  2024-01-11 22:49:27  \n",
       "3 2024-01-10 21:00:08  2024-01-11 22:49:27  \n",
       "4 2024-01-10 17:16:38  2024-01-11 22:49:27  "
      ]
     },
     "execution_count": 14,
     "metadata": {},
     "output_type": "execute_result"
    }
   ],
   "source": [
    "# check the data frame \n",
    "\n",
    "feed_df.head()"
   ]
  },
  {
   "cell_type": "code",
   "execution_count": 15,
   "metadata": {},
   "outputs": [
    {
     "data": {
      "text/plain": [
       "product_alert            object\n",
       "published        datetime64[ns]\n",
       "current time             object\n",
       "dtype: object"
      ]
     },
     "execution_count": 15,
     "metadata": {},
     "output_type": "execute_result"
    }
   ],
   "source": [
    "# check the data formats \n",
    "\n",
    "feed_df.dtypes"
   ]
  },
  {
   "cell_type": "code",
   "execution_count": 16,
   "metadata": {},
   "outputs": [],
   "source": [
    "# convert current time string to actual date time \n",
    "feed_df['current time']= pd.to_datetime(feed_df['current time'])\n",
    "\n",
    "\n"
   ]
  },
  {
   "cell_type": "code",
   "execution_count": 17,
   "metadata": {},
   "outputs": [],
   "source": [
    "# calculate hours since the update was published in hours \n",
    "feed_df['alert_age'] = (feed_df['current time'] - feed_df['published']) / pd.Timedelta(hours=1)"
   ]
  },
  {
   "cell_type": "code",
   "execution_count": 18,
   "metadata": {},
   "outputs": [
    {
     "data": {
      "text/html": [
       "<div>\n",
       "<style scoped>\n",
       "    .dataframe tbody tr th:only-of-type {\n",
       "        vertical-align: middle;\n",
       "    }\n",
       "\n",
       "    .dataframe tbody tr th {\n",
       "        vertical-align: top;\n",
       "    }\n",
       "\n",
       "    .dataframe thead th {\n",
       "        text-align: right;\n",
       "    }\n",
       "</style>\n",
       "<table border=\"1\" class=\"dataframe\">\n",
       "  <thead>\n",
       "    <tr style=\"text-align: right;\">\n",
       "      <th></th>\n",
       "      <th>product_alert</th>\n",
       "      <th>published</th>\n",
       "      <th>current time</th>\n",
       "      <th>alert_age</th>\n",
       "    </tr>\n",
       "  </thead>\n",
       "  <tbody>\n",
       "    <tr>\n",
       "      <th>0</th>\n",
       "      <td>Stock Alert (US): RPi 5 - 4GB RAM is In Stock at Adafruit 100 units in stock.</td>\n",
       "      <td>2024-01-11 16:30:24</td>\n",
       "      <td>2024-01-11 22:49:27</td>\n",
       "      <td>6.317500</td>\n",
       "    </tr>\n",
       "    <tr>\n",
       "      <th>1</th>\n",
       "      <td>Stock Alert (US): RPi 5 - 8GB RAM is In Stock at Pishop 7 units in stock.</td>\n",
       "      <td>2024-01-11 04:24:03</td>\n",
       "      <td>2024-01-11 22:49:27</td>\n",
       "      <td>18.423333</td>\n",
       "    </tr>\n",
       "    <tr>\n",
       "      <th>2</th>\n",
       "      <td>Stock Alert (US): RPi 5 - 8GB RAM is In Stock at Pishop 27 units in stock.</td>\n",
       "      <td>2024-01-10 23:56:10</td>\n",
       "      <td>2024-01-11 22:49:27</td>\n",
       "      <td>22.888056</td>\n",
       "    </tr>\n",
       "    <tr>\n",
       "      <th>3</th>\n",
       "      <td>Stock Alert (US): RPi 5 - 8GB RAM is In Stock at Pishop 99 units in stock.</td>\n",
       "      <td>2024-01-10 21:00:08</td>\n",
       "      <td>2024-01-11 22:49:27</td>\n",
       "      <td>25.821944</td>\n",
       "    </tr>\n",
       "    <tr>\n",
       "      <th>4</th>\n",
       "      <td>Stock Alert (US): RPi 5 - 4GB RAM is In Stock at Adafruit 100 units in stock.</td>\n",
       "      <td>2024-01-10 17:16:38</td>\n",
       "      <td>2024-01-11 22:49:27</td>\n",
       "      <td>29.546944</td>\n",
       "    </tr>\n",
       "  </tbody>\n",
       "</table>\n",
       "</div>"
      ],
      "text/plain": [
       "                                                                   product_alert  \\\n",
       "0  Stock Alert (US): RPi 5 - 4GB RAM is In Stock at Adafruit 100 units in stock.   \n",
       "1      Stock Alert (US): RPi 5 - 8GB RAM is In Stock at Pishop 7 units in stock.   \n",
       "2     Stock Alert (US): RPi 5 - 8GB RAM is In Stock at Pishop 27 units in stock.   \n",
       "3     Stock Alert (US): RPi 5 - 8GB RAM is In Stock at Pishop 99 units in stock.   \n",
       "4  Stock Alert (US): RPi 5 - 4GB RAM is In Stock at Adafruit 100 units in stock.   \n",
       "\n",
       "            published        current time  alert_age  \n",
       "0 2024-01-11 16:30:24 2024-01-11 22:49:27   6.317500  \n",
       "1 2024-01-11 04:24:03 2024-01-11 22:49:27  18.423333  \n",
       "2 2024-01-10 23:56:10 2024-01-11 22:49:27  22.888056  \n",
       "3 2024-01-10 21:00:08 2024-01-11 22:49:27  25.821944  \n",
       "4 2024-01-10 17:16:38 2024-01-11 22:49:27  29.546944  "
      ]
     },
     "execution_count": 18,
     "metadata": {},
     "output_type": "execute_result"
    }
   ],
   "source": [
    "# check the data frame/validate the data\n",
    "feed_df.head()"
   ]
  },
  {
   "cell_type": "code",
   "execution_count": 20,
   "metadata": {},
   "outputs": [],
   "source": [
    "# filter out the newest stock data, as the devices sell out so quickly that \n",
    "# there isn't much value in older alerts \n",
    "\n",
    "feed_df = feed_df[feed_df['alert_age'] < 24]\n"
   ]
  },
  {
   "cell_type": "code",
   "execution_count": 21,
   "metadata": {},
   "outputs": [
    {
     "data": {
      "text/html": [
       "<div>\n",
       "<style scoped>\n",
       "    .dataframe tbody tr th:only-of-type {\n",
       "        vertical-align: middle;\n",
       "    }\n",
       "\n",
       "    .dataframe tbody tr th {\n",
       "        vertical-align: top;\n",
       "    }\n",
       "\n",
       "    .dataframe thead th {\n",
       "        text-align: right;\n",
       "    }\n",
       "</style>\n",
       "<table border=\"1\" class=\"dataframe\">\n",
       "  <thead>\n",
       "    <tr style=\"text-align: right;\">\n",
       "      <th></th>\n",
       "      <th>product_alert</th>\n",
       "      <th>published</th>\n",
       "      <th>current time</th>\n",
       "      <th>alert_age</th>\n",
       "    </tr>\n",
       "  </thead>\n",
       "  <tbody>\n",
       "    <tr>\n",
       "      <th>0</th>\n",
       "      <td>Stock Alert (US): RPi 5 - 4GB RAM is In Stock at Adafruit 100 units in stock.</td>\n",
       "      <td>2024-01-11 16:30:24</td>\n",
       "      <td>2024-01-11 22:49:27</td>\n",
       "      <td>6.317500</td>\n",
       "    </tr>\n",
       "    <tr>\n",
       "      <th>1</th>\n",
       "      <td>Stock Alert (US): RPi 5 - 8GB RAM is In Stock at Pishop 7 units in stock.</td>\n",
       "      <td>2024-01-11 04:24:03</td>\n",
       "      <td>2024-01-11 22:49:27</td>\n",
       "      <td>18.423333</td>\n",
       "    </tr>\n",
       "    <tr>\n",
       "      <th>2</th>\n",
       "      <td>Stock Alert (US): RPi 5 - 8GB RAM is In Stock at Pishop 27 units in stock.</td>\n",
       "      <td>2024-01-10 23:56:10</td>\n",
       "      <td>2024-01-11 22:49:27</td>\n",
       "      <td>22.888056</td>\n",
       "    </tr>\n",
       "  </tbody>\n",
       "</table>\n",
       "</div>"
      ],
      "text/plain": [
       "                                                                   product_alert  \\\n",
       "0  Stock Alert (US): RPi 5 - 4GB RAM is In Stock at Adafruit 100 units in stock.   \n",
       "1      Stock Alert (US): RPi 5 - 8GB RAM is In Stock at Pishop 7 units in stock.   \n",
       "2     Stock Alert (US): RPi 5 - 8GB RAM is In Stock at Pishop 27 units in stock.   \n",
       "\n",
       "            published        current time  alert_age  \n",
       "0 2024-01-11 16:30:24 2024-01-11 22:49:27   6.317500  \n",
       "1 2024-01-11 04:24:03 2024-01-11 22:49:27  18.423333  \n",
       "2 2024-01-10 23:56:10 2024-01-11 22:49:27  22.888056  "
      ]
     },
     "execution_count": 21,
     "metadata": {},
     "output_type": "execute_result"
    }
   ],
   "source": [
    "# validate the data frame - see if we have anything \n",
    "# in this case we have nothing, and checking the vendors shows nothing in stock so this\n",
    "# isn't something we'd want to drive alerts off of. \n",
    "\n",
    "feed_df.head()"
   ]
  },
  {
   "cell_type": "code",
   "execution_count": 22,
   "metadata": {},
   "outputs": [
    {
     "data": {
      "text/html": [
       "<div>\n",
       "<style scoped>\n",
       "    .dataframe tbody tr th:only-of-type {\n",
       "        vertical-align: middle;\n",
       "    }\n",
       "\n",
       "    .dataframe tbody tr th {\n",
       "        vertical-align: top;\n",
       "    }\n",
       "\n",
       "    .dataframe thead th {\n",
       "        text-align: right;\n",
       "    }\n",
       "</style>\n",
       "<table border=\"1\" class=\"dataframe\">\n",
       "  <thead>\n",
       "    <tr style=\"text-align: right;\">\n",
       "      <th></th>\n",
       "      <th>product_alert</th>\n",
       "      <th>alert_age</th>\n",
       "    </tr>\n",
       "  </thead>\n",
       "  <tbody>\n",
       "    <tr>\n",
       "      <th>0</th>\n",
       "      <td>Stock Alert (US): RPi 5 - 4GB RAM is In Stock at Adafruit 100 units in stock.</td>\n",
       "      <td>6.317500</td>\n",
       "    </tr>\n",
       "    <tr>\n",
       "      <th>1</th>\n",
       "      <td>Stock Alert (US): RPi 5 - 8GB RAM is In Stock at Pishop 7 units in stock.</td>\n",
       "      <td>18.423333</td>\n",
       "    </tr>\n",
       "    <tr>\n",
       "      <th>2</th>\n",
       "      <td>Stock Alert (US): RPi 5 - 8GB RAM is In Stock at Pishop 27 units in stock.</td>\n",
       "      <td>22.888056</td>\n",
       "    </tr>\n",
       "  </tbody>\n",
       "</table>\n",
       "</div>"
      ],
      "text/plain": [
       "                                                                   product_alert  \\\n",
       "0  Stock Alert (US): RPi 5 - 4GB RAM is In Stock at Adafruit 100 units in stock.   \n",
       "1      Stock Alert (US): RPi 5 - 8GB RAM is In Stock at Pishop 7 units in stock.   \n",
       "2     Stock Alert (US): RPi 5 - 8GB RAM is In Stock at Pishop 27 units in stock.   \n",
       "\n",
       "   alert_age  \n",
       "0   6.317500  \n",
       "1  18.423333  \n",
       "2  22.888056  "
      ]
     },
     "execution_count": 22,
     "metadata": {},
     "output_type": "execute_result"
    }
   ],
   "source": [
    "# create new dataframe with just the product alert and alert age columns \n",
    "\n",
    "alert_df = feed_df[['product_alert', 'alert_age']]\n",
    "\n",
    "alert_df.head()\n"
   ]
  },
  {
   "cell_type": "code",
   "execution_count": 26,
   "metadata": {},
   "outputs": [],
   "source": [
    "# convert the dataframe to a json string\n",
    "\n",
    "alert_json = alert_df.to_json(orient=\"values\")"
   ]
  },
  {
   "cell_type": "code",
   "execution_count": 27,
   "metadata": {},
   "outputs": [
    {
     "name": "stdout",
     "output_type": "stream",
     "text": [
      "[[\"Stock Alert (US): RPi 5 - 4GB RAM is In Stock at Adafruit 100 units in stock.\",6.3175],[\"Stock Alert (US): RPi 5 - 8GB RAM is In Stock at Pishop 7 units in stock.\",18.4233333333],[\"Stock Alert (US): RPi 5 - 8GB RAM is In Stock at Pishop 27 units in stock.\",22.8880555556]]\n"
     ]
    }
   ],
   "source": [
    "# validate the json - we want alert followed by age\n",
    "\n",
    "print(alert_json)"
   ]
  }
 ],
 "metadata": {
  "kernelspec": {
   "display_name": "DataIngestion",
   "language": "python",
   "name": "python3"
  },
  "language_info": {
   "codemirror_mode": {
    "name": "ipython",
    "version": 3
   },
   "file_extension": ".py",
   "mimetype": "text/x-python",
   "name": "python",
   "nbconvert_exporter": "python",
   "pygments_lexer": "ipython3",
   "version": "3.11.5"
  }
 },
 "nbformat": 4,
 "nbformat_minor": 4
}
